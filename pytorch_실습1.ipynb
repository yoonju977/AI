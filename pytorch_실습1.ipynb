{
  "nbformat": 4,
  "nbformat_minor": 0,
  "metadata": {
    "colab": {
      "provenance": [],
      "gpuType": "T4",
      "authorship_tag": "ABX9TyNkZG2Lv/WvVlQPgHV0jRGN",
      "include_colab_link": true
    },
    "kernelspec": {
      "name": "python3",
      "display_name": "Python 3"
    },
    "language_info": {
      "name": "python"
    },
    "accelerator": "GPU"
  },
  "cells": [
    {
      "cell_type": "markdown",
      "metadata": {
        "id": "view-in-github",
        "colab_type": "text"
      },
      "source": [
        "<a href=\"https://colab.research.google.com/github/yoonju977/AI/blob/main/pytorch_%EC%8B%A4%EC%8A%B51.ipynb\" target=\"_parent\"><img src=\"https://colab.research.google.com/assets/colab-badge.svg\" alt=\"Open In Colab\"/></a>"
      ]
    },
    {
      "cell_type": "code",
      "execution_count": 1,
      "metadata": {
        "colab": {
          "base_uri": "https://localhost:8080/"
        },
        "id": "z-ioFDacR6fJ",
        "outputId": "719c0595-d75d-4bd7-ad15-f19de5c4bee4"
      },
      "outputs": [
        {
          "output_type": "stream",
          "name": "stdout",
          "text": [
            "Looking in indexes: https://download.pytorch.org/whl/cu118\n",
            "Requirement already satisfied: torch in /usr/local/lib/python3.10/dist-packages (2.4.1+cu121)\n",
            "Requirement already satisfied: torchvision in /usr/local/lib/python3.10/dist-packages (0.19.1+cu121)\n",
            "Requirement already satisfied: torchaudio in /usr/local/lib/python3.10/dist-packages (2.4.1+cu121)\n",
            "Requirement already satisfied: filelock in /usr/local/lib/python3.10/dist-packages (from torch) (3.16.0)\n",
            "Requirement already satisfied: typing-extensions>=4.8.0 in /usr/local/lib/python3.10/dist-packages (from torch) (4.12.2)\n",
            "Requirement already satisfied: sympy in /usr/local/lib/python3.10/dist-packages (from torch) (1.13.2)\n",
            "Requirement already satisfied: networkx in /usr/local/lib/python3.10/dist-packages (from torch) (3.3)\n",
            "Requirement already satisfied: jinja2 in /usr/local/lib/python3.10/dist-packages (from torch) (3.1.4)\n",
            "Requirement already satisfied: fsspec in /usr/local/lib/python3.10/dist-packages (from torch) (2024.6.1)\n",
            "Requirement already satisfied: numpy in /usr/local/lib/python3.10/dist-packages (from torchvision) (1.26.4)\n",
            "Requirement already satisfied: pillow!=8.3.*,>=5.3.0 in /usr/local/lib/python3.10/dist-packages (from torchvision) (10.4.0)\n",
            "Requirement already satisfied: MarkupSafe>=2.0 in /usr/local/lib/python3.10/dist-packages (from jinja2->torch) (2.1.5)\n",
            "Requirement already satisfied: mpmath<1.4,>=1.1.0 in /usr/local/lib/python3.10/dist-packages (from sympy->torch) (1.3.0)\n"
          ]
        }
      ],
      "source": [
        "pip install torch torchvision torchaudio --index-url https://download.pytorch.org/whl/cu118"
      ]
    },
    {
      "cell_type": "code",
      "source": [
        "pip install numpy"
      ],
      "metadata": {
        "colab": {
          "base_uri": "https://localhost:8080/"
        },
        "id": "VM-graguSDZN",
        "outputId": "e638404a-5a44-483f-8d38-ed975206aea4"
      },
      "execution_count": 2,
      "outputs": [
        {
          "output_type": "stream",
          "name": "stdout",
          "text": [
            "Requirement already satisfied: numpy in /usr/local/lib/python3.10/dist-packages (1.26.4)\n"
          ]
        }
      ]
    },
    {
      "cell_type": "code",
      "source": [
        "import time\n",
        "import numpy as np\n",
        "import torch\n",
        "\n",
        "# 1. 일반 Python 리스트 연산 시간 측정\n",
        "start_time = time.time()\n",
        "\n",
        "X = [1] * 10000\n",
        "Y = [0.5] * 10000\n",
        "Z = [None] * 10000\n",
        "for i in range(10000):\n",
        "    Z[i] = X[i] * Y[i]\n",
        "\n",
        "end_time = time.time()\n",
        "print(f\"Execution time for Python list operation: {end_time - start_time} seconds\")\n",
        "\n",
        "# 2. numpy 배열 연산 시간 측정\n",
        "start_time = time.time()\n",
        "\n",
        "X = np.full((10000,), 1)\n",
        "Y = np.full((10000,), 0.5)\n",
        "Z = X * Y\n",
        "\n",
        "end_time = time.time()\n",
        "print(f\"Execution time for numpy operation: {end_time - start_time} seconds\")\n",
        "\n",
        "# 3. PyTorch 연산 시간 측정 (CUDA 사용)\n",
        "start_time = time.time()\n",
        "\n",
        "X = torch.full((10000,), 1.0, requires_grad=True).cuda()\n",
        "Y = torch.full((10000,), 0.5, requires_grad=True).cuda()\n",
        "Z = X * Y\n",
        "\n",
        "# CUDA 연산 동기화 (GPU 작업 완료 후 시간 기록을 위해 필요)\n",
        "torch.cuda.synchronize()\n",
        "\n",
        "end_time = time.time()\n",
        "print(f\"Execution time for PyTorch CUDA operation: {end_time - start_time} seconds\")\n",
        "\n",
        "# 역전파 (backward) 계산\n",
        "Z.sum().backward()\n",
        "\n",
        "# 그라디언트 확인\n",
        "dx = X.grad\n",
        "print(dx)"
      ],
      "metadata": {
        "colab": {
          "base_uri": "https://localhost:8080/"
        },
        "id": "a0yBimVVSKng",
        "outputId": "7cec02e0-1e54-45ae-c492-d48746e077aa"
      },
      "execution_count": 1,
      "outputs": [
        {
          "output_type": "stream",
          "name": "stdout",
          "text": [
            "Execution time for Python list operation: 0.004134178161621094 seconds\n",
            "Execution time for numpy operation: 0.0007352828979492188 seconds\n",
            "Execution time for PyTorch CUDA operation: 0.6567487716674805 seconds\n",
            "None\n"
          ]
        },
        {
          "output_type": "stream",
          "name": "stderr",
          "text": [
            "<ipython-input-1-9f95dc340a80>:44: UserWarning: The .grad attribute of a Tensor that is not a leaf Tensor is being accessed. Its .grad attribute won't be populated during autograd.backward(). If you indeed want the .grad field to be populated for a non-leaf Tensor, use .retain_grad() on the non-leaf Tensor. If you access the non-leaf Tensor by mistake, make sure you access the leaf Tensor instead. See github.com/pytorch/pytorch/pull/30531 for more informations. (Triggered internally at aten/src/ATen/core/TensorBody.h:489.)\n",
            "  dx = X.grad\n"
          ]
        }
      ]
    },
    {
      "cell_type": "code",
      "source": [
        "import torch\n",
        "import numpy as np\n",
        "\n",
        "# PyTorch tensor 생성 (기본적으로 torch.float32)\n",
        "tensor_a = torch.tensor([5., 3.])\n",
        "print(tensor_a)  # 출력: tensor([5., 3.]) - 기본 데이터 타입은 torch.float32\n",
        "\n",
        "# NumPy 배열을 PyTorch tensor로 변환 (NumPy는 기본적으로 float64 사용)\n",
        "numpy_array = np.array([5., 3.])\n",
        "tensor_from_numpy = torch.from_numpy(numpy_array)\n",
        "print(tensor_from_numpy)  # 출력: tensor([5., 3.], dtype=torch.float64) - NumPy의 기본 dtype은 float64\n",
        "\n",
        "# PyTorch tensor를 NumPy 배열로 변환 (기본적으로 float32 유지)\n",
        "numpy_from_tensor = torch.tensor([5., 3.]).numpy()\n",
        "print(numpy_from_tensor)  # 출력: array([5., 3.], dtype=float32) - PyTorch 기본 dtype은 float32\n"
      ],
      "metadata": {
        "colab": {
          "base_uri": "https://localhost:8080/"
        },
        "id": "wHpRLr73SoqK",
        "outputId": "eb403e9e-f324-4db7-af00-aa6ce6137255"
      },
      "execution_count": 2,
      "outputs": [
        {
          "output_type": "stream",
          "name": "stdout",
          "text": [
            "tensor([5., 3.])\n",
            "tensor([5., 3.], dtype=torch.float64)\n",
            "[5. 3.]\n"
          ]
        }
      ]
    },
    {
      "cell_type": "code",
      "source": [
        "import torch\n",
        "torch.ones(5, 3)"
      ],
      "metadata": {
        "colab": {
          "base_uri": "https://localhost:8080/"
        },
        "id": "m4b7UpkzTl48",
        "outputId": "fae0c0d0-c3ff-4c83-caa1-65c82bf6a475"
      },
      "execution_count": 12,
      "outputs": [
        {
          "output_type": "execute_result",
          "data": {
            "text/plain": [
              "tensor([[1., 1., 1.],\n",
              "        [1., 1., 1.],\n",
              "        [1., 1., 1.],\n",
              "        [1., 1., 1.],\n",
              "        [1., 1., 1.]])"
            ]
          },
          "metadata": {},
          "execution_count": 12
        }
      ]
    },
    {
      "cell_type": "code",
      "source": [
        "import torch\n",
        "torch.randn(5, 3)"
      ],
      "metadata": {
        "colab": {
          "base_uri": "https://localhost:8080/"
        },
        "id": "A93GKw-7T1z_",
        "outputId": "fdff2786-0a5d-44ef-c3ac-af84106256fd"
      },
      "execution_count": 7,
      "outputs": [
        {
          "output_type": "execute_result",
          "data": {
            "text/plain": [
              "tensor([[-1.2213, -0.8613, -0.0631],\n",
              "        [-2.4239,  0.3438,  0.1875],\n",
              "        [-2.2954,  0.5382, -1.5464],\n",
              "        [ 1.1598, -1.0788,  2.0342],\n",
              "        [ 0.1197,  0.5335,  1.0518]])"
            ]
          },
          "metadata": {},
          "execution_count": 7
        }
      ]
    },
    {
      "cell_type": "code",
      "source": [
        "import torch\n",
        "tensor= torch.tensor([[ 0.2349, -0.0427, -0.5053], [ 0.6455,  0.1199, 0.4239]])\n",
        "ones_tensor = torch.ones_like(tensor, dtype=torch.float64)\n",
        "\n",
        "print(ones_tensor)"
      ],
      "metadata": {
        "colab": {
          "base_uri": "https://localhost:8080/"
        },
        "id": "ip0BIq4GT7I9",
        "outputId": "9944da23-8bce-4360-d033-a14a1fd3cea4"
      },
      "execution_count": 13,
      "outputs": [
        {
          "output_type": "stream",
          "name": "stdout",
          "text": [
            "tensor([[1., 1., 1.],\n",
            "        [1., 1., 1.]], dtype=torch.float64)\n"
          ]
        }
      ]
    },
    {
      "cell_type": "code",
      "source": [
        "import torch\n",
        "torch.empty(5, 3) #공간만 할당했으므로 랜덤한 초기값"
      ],
      "metadata": {
        "colab": {
          "base_uri": "https://localhost:8080/"
        },
        "id": "sHemWGcZVD32",
        "outputId": "03a55a50-da81-43c2-d5df-70ddde543cea"
      },
      "execution_count": 14,
      "outputs": [
        {
          "output_type": "execute_result",
          "data": {
            "text/plain": [
              "tensor([[4.6906e+17, 4.4131e-41, 2.8444e-11],\n",
              "        [3.1742e-41, 2.6506e-11, 3.1742e-41],\n",
              "        [2.5709e-11, 3.1742e-41, 0.0000e+00],\n",
              "        [0.0000e+00, 2.4825e-11, 3.1742e-41],\n",
              "        [1.8576e-13, 3.1742e-41, 8.6535e+15]])"
            ]
          },
          "metadata": {},
          "execution_count": 14
        }
      ]
    },
    {
      "cell_type": "code",
      "source": [
        "import torch\n",
        "\n",
        "print(torch.tensor([[5., 3.]])[0, :])  # 인덱싱 후 출력\n",
        "\n",
        "print(torch.tensor([[5., 3.]]).view(-1))  # view(-1) 후 출력\n",
        "\n",
        "print(torch.tensor([[5., 3.]]).view(2))  # view(2) 후 출력\n",
        "\n",
        "print(torch.tensor([[5., 3.]]).size())  # 크기(size) 출력\n"
      ],
      "metadata": {
        "colab": {
          "base_uri": "https://localhost:8080/"
        },
        "id": "4uVM9NS4VZcM",
        "outputId": "67f3103f-f955-4a45-8f14-74f9a62deacb"
      },
      "execution_count": 16,
      "outputs": [
        {
          "output_type": "stream",
          "name": "stdout",
          "text": [
            "tensor([5., 3.])\n",
            "tensor([5., 3.])\n",
            "tensor([5., 3.])\n",
            "torch.Size([1, 2])\n"
          ]
        }
      ]
    },
    {
      "cell_type": "code",
      "source": [
        "import torch\n",
        "\n",
        "X = torch.ones((3, 3, 3))\n",
        "Y = torch.ones((1, 1, 3))\n",
        "Z = X * Y\n",
        "Z.size()"
      ],
      "metadata": {
        "colab": {
          "base_uri": "https://localhost:8080/"
        },
        "id": "Ckt9MGW-WekW",
        "outputId": "c5cb4d4f-105f-4afd-deb8-45d2c252e216"
      },
      "execution_count": 19,
      "outputs": [
        {
          "output_type": "execute_result",
          "data": {
            "text/plain": [
              "torch.Size([3, 3, 3])"
            ]
          },
          "metadata": {},
          "execution_count": 19
        }
      ]
    },
    {
      "cell_type": "code",
      "source": [
        "import torch\n",
        "\n",
        "# CUDA가 사용 가능한지 확인\n",
        "if torch.cuda.is_available():\n",
        "    device = torch.device(\"cuda\")  # CUDA 장치를 사용\n",
        "    # GPU에서 텐서 생성\n",
        "    x = torch.ones(2, device=device)\n",
        "    # 다른 텐서를 CPU에서 생성하고 GPU로 이동\n",
        "    y = torch.ones(2).to(device)\n",
        "\n",
        "    # GPU에서 두 텐서의 합 계산\n",
        "    z = x + y\n",
        "    print(z)  # z는 GPU에 있는 텐서\n",
        "\n",
        "    # z 텐서를 CPU로 이동하고, dtype을 double로 변환\n",
        "    print(z.to(\"cpu\", torch.double))\n",
        "else:\n",
        "    print(\"CUDA is not available.\")\n",
        "\n",
        "#\t1.\tx.cuda(): 텐서를 GPU로 이동시킬 때 사용합니다.(gpu 사용가능 환경만 가능)\n",
        "# 2.\tx.cpu(): 텐서를 CPU로 이동시킬 때 사용합니다.(어느 환경이던 가능)\n"
      ],
      "metadata": {
        "colab": {
          "base_uri": "https://localhost:8080/"
        },
        "id": "HrGTFVl7bep6",
        "outputId": "5e9eae6a-8523-4784-92f8-b6d893d6bd75"
      },
      "execution_count": 25,
      "outputs": [
        {
          "output_type": "stream",
          "name": "stdout",
          "text": [
            "tensor([2., 2.], device='cuda:0')\n",
            "tensor([2., 2.], dtype=torch.float64)\n"
          ]
        }
      ]
    },
    {
      "cell_type": "code",
      "source": [],
      "metadata": {
        "id": "3v0PtVc2cgTR"
      },
      "execution_count": null,
      "outputs": []
    }
  ]
}